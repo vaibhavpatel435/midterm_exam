{
 "cells": [
  {
   "cell_type": "markdown",
   "id": "ee48c50c-7a5f-4673-bffa-5ad1103af2f5",
   "metadata": {},
   "source": [
    "Question 23\n",
    "\n",
    "In a jupyter notebook solve the following question using python. Please upload the notebook to GitHub and provide the link submission box below.\n",
    "\n",
    "\n",
    "\n",
    "Develop a recursive function tough() that takes two nonnegative integer arguments and outputs a pattern as shown below. Hint: The first argument represents the indentation of the pattern, where the second argument -- always a pattern of 2 indicates the number *s in the longest line of *s in the pattern\n",
    "https://gc.blackboard.com/bbcswebdav/pid-38740945-dt-asiobject-rid-83782051_1/xid-83782051_1"
   ]
  },
  {
   "cell_type": "code",
   "execution_count": 1,
   "id": "3a95211b-04a8-43cf-b0a9-4229eba55ccd",
   "metadata": {},
   "outputs": [
    {
     "name": "stdout",
     "output_type": "stream",
     "text": [
      "----\n",
      "\n",
      "----\n",
      "*\n",
      "\n",
      "----\n",
      "*\n",
      "**\n",
      " *\n",
      "\n",
      "----\n",
      "*\n",
      "**\n",
      " *\n",
      "***\n",
      " *\n",
      " **\n",
      "  *\n",
      "****\n",
      " *\n",
      " **\n",
      "  *\n",
      " ***\n",
      "  *\n",
      "  **\n",
      "   *\n",
      "\n"
     ]
    }
   ],
   "source": [
    "def tough(indent, stars):\n",
    "    if stars == 0:\n",
    "        return\n",
    "    tough(indent, stars - 1) \n",
    "    print(\" \" * indent + \"*\" * stars)\n",
    "    tough(indent + 1, stars - 1)\n",
    "\n",
    "def f(indent, stars):\n",
    "    tough(indent, stars)\n",
    "    print()\n",
    "\n",
    "print(\"----\")\n",
    "f(0, 0)\n",
    "print(\"----\")\n",
    "f(0, 1)\n",
    "print(\"----\")\n",
    "f(0, 2)\n",
    "print(\"----\")\n",
    "f(0, 4)"
   ]
  },
  {
   "cell_type": "code",
   "execution_count": null,
   "id": "c2776bbb-a077-46a2-ba3d-2acd963b7e31",
   "metadata": {},
   "outputs": [],
   "source": []
  }
 ],
 "metadata": {
  "kernelspec": {
   "display_name": "Python 3 (ipykernel)",
   "language": "python",
   "name": "python3"
  },
  "language_info": {
   "codemirror_mode": {
    "name": "ipython",
    "version": 3
   },
   "file_extension": ".py",
   "mimetype": "text/x-python",
   "name": "python",
   "nbconvert_exporter": "python",
   "pygments_lexer": "ipython3",
   "version": "3.11.7"
  }
 },
 "nbformat": 4,
 "nbformat_minor": 5
}
