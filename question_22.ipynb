{
 "cells": [
  {
   "cell_type": "markdown",
   "id": "43767fbe-cac3-4f96-b9e4-92ef019d4600",
   "metadata": {},
   "source": [
    "Question 22\n",
    "\n",
    "In a jupyter notebook solve the following question using both python and SQL. Please upload the notebook to GitHub and provide the link submission box below.\n",
    "\n",
    "\n",
    "\n",
    "+---------------+---------+\n",
    "| Column Name   | Type    |\n",
    "+---------------+---------+\n",
    "| id            | int     |\n",
    "| recordDate    | date    |\n",
    "| temperature   | int     |\n",
    "+---------------+---------+\n",
    "id is the column with unique values for this table.\n",
    "This table contains information about the temperature on a certain day.\n",
    " \n",
    " \n",
    "\n",
    "Write a solution to find all dates' Id with higher temperatures compared to its previous dates (yesterday).\n",
    "\n",
    "Return the result table in any order.\n",
    "\n",
    "Please use the following input Weather table for your solution. To receive full marks you will need to create the database, create the table, insert the data below and execute the SQL query.\n",
    "\n",
    " \n",
    "\n",
    "Input: \n",
    "Weather table:\n",
    "+----+------------+-------------+\n",
    "| id | recordDate | temperature |\n",
    "+----+------------+-------------+\n",
    "| 1  | 2015-01-01 | 10          |\n",
    "\n",
    "| 2  | 2015-01-02 | 25          |\n",
    "| 3  | 2015-01-03 | 20          |\n",
    "| 4  | 2015-01-04 | 30          |\n",
    "+----+------------+-------------+\n",
    "Output: \n",
    "+----+\n",
    "| id |\n",
    "+----+\n",
    "| 2  |\n",
    "| 4  |\n",
    "+----+\n",
    "Explanation: \n",
    "In 2015-01-02, the temperature was higher than the previous day (10 -> 25).\n",
    "In 2015-01-04, the temperature was higher than the previous day (20 -> 30)."
   ]
  },
  {
   "cell_type": "code",
   "execution_count": 1,
   "id": "c546affa-0bfe-4dc6-8198-64c15e1d6cda",
   "metadata": {},
   "outputs": [
    {
     "ename": "SyntaxError",
     "evalue": "incomplete input (1120912829.py, line 40)",
     "output_type": "error",
     "traceback": [
      "\u001b[0;36m  Cell \u001b[0;32mIn[1], line 40\u001b[0;36m\u001b[0m\n\u001b[0;31m    conn.close(\u001b[0m\n\u001b[0m               ^\u001b[0m\n\u001b[0;31mSyntaxError\u001b[0m\u001b[0;31m:\u001b[0m incomplete input\n"
     ]
    }
   ],
   "source": [
    "import sqlite3\n",
    "\n",
    "conn = sqlite3.connect('midterm_practice.db')\n",
    "\n",
    "get_database = conn.cursor()\n",
    "\n",
    "create_table_query = '''\n",
    "CREATE TABLE Weather_data (\n",
    "    id INTEGER PRIMARY KEY,\n",
    "    recordDate DATE,\n",
    "    temperature INTEGER\n",
    ");\n",
    "'''\n",
    "\n",
    "insert_queries = [\n",
    "    \"INSERT INTO Weather_data VALUES (1, '2015-01-01', 10);\",\n",
    "    \"INSERT INTO Weather_data VALUES (2, '2015-01-02', 25);\",\n",
    "    \"INSERT INTO Weather_data VALUES (3, '2015-01-03', 20);\",\n",
    "    \"INSERT INTO Weather_data VALUES (4, '2015-01-04', 30);\"\n",
    "]\n",
    "\n",
    "select_query = '''\n",
    "SELECT t1.id\n",
    "FROM Weather_data t1\n",
    "JOIN Weather_data t2 ON t1.id = t2.id + 1\n",
    "WHERE t1.temperature > t2.temperature;\n",
    "'''\n",
    "\n",
    "get_database.executescript(create_table_query)\n",
    "for insert_query in insert_queries:\n",
    "    get_database.execute(insert_query)\n",
    "\n",
    "get_database.execute(select_query)\n",
    "get_results = get_database.fetchall()\n",
    "\n",
    "for row in get_results:\n",
    "    print(row)\n",
    "\n",
    "conn.commit()\n",
    "conn.close("
   ]
  },
  {
   "cell_type": "code",
   "execution_count": null,
   "id": "b615be9f-e5e8-4e37-8af0-56d3a233528a",
   "metadata": {},
   "outputs": [],
   "source": []
  }
 ],
 "metadata": {
  "kernelspec": {
   "display_name": "Python 3 (ipykernel)",
   "language": "python",
   "name": "python3"
  },
  "language_info": {
   "codemirror_mode": {
    "name": "ipython",
    "version": 3
   },
   "file_extension": ".py",
   "mimetype": "text/x-python",
   "name": "python",
   "nbconvert_exporter": "python",
   "pygments_lexer": "ipython3",
   "version": "3.11.7"
  }
 },
 "nbformat": 4,
 "nbformat_minor": 5
}
